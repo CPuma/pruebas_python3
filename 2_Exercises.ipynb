{
 "cells": [
  {
   "cell_type": "markdown",
   "metadata": {},
   "source": [
    "# Ejercicios #"
   ]
  },
  {
   "cell_type": "markdown",
   "metadata": {},
   "source": [
    "## 1. Ordenar ##\n",
    "\n",
    "Dada una lista de números enteros, tienes la tarea de ordenarla de menor a mayor."
   ]
  },
  {
   "cell_type": "code",
   "execution_count": 29,
   "metadata": {},
   "outputs": [
    {
     "name": "stdout",
     "output_type": "stream",
     "text": [
      "[0, 4, 4, 5, 10, 21, 23]\n",
      "[23, 4, 4, 21, 0, 5, 10]\n"
     ]
    }
   ],
   "source": [
    "a = [23, 4, 4, 21, 0, 5, 10]\n",
    "print(sorted(a))\n",
    "print(a)"
   ]
  },
  {
   "cell_type": "code",
   "execution_count": 28,
   "metadata": {},
   "outputs": [
    {
     "name": "stdout",
     "output_type": "stream",
     "text": [
      "['1', '1', '2', '2', '2', '3', '3', '3']\n"
     ]
    }
   ],
   "source": [
    "a = list('23123123')\n",
    "a.sort() # ordena permanetemente\n",
    "print(a)"
   ]
  },
  {
   "cell_type": "code",
   "execution_count": 83,
   "metadata": {},
   "outputs": [
    {
     "name": "stdout",
     "output_type": "stream",
     "text": [
      "Lista desordenada: [10, 12, 13, 4, 5, 16, 7, 2, 9, 1]\n",
      "Lista ordenada: [1, 2, 4, 5, 7, 9, 10, 12, 13, 16]\n"
     ]
    }
   ],
   "source": [
    "lista = [10, 12, 13, 4, 5, 16, 7, 2, 9, 1] \n",
    "\n",
    "print('Lista desordenada:', lista) \n",
    "\n",
    "i = 0 \n",
    "ordenado = False \n",
    "while (i < len(lista) or ordenado == False):\n",
    "    i += 1          \n",
    "    ordenado = True \n",
    "    for j in range(0, len(lista) - i):  \n",
    "        if lista[j] > lista[j + 1]: \n",
    "            ordenado = False\n",
    "            aux = lista[j]   \n",
    "            lista[j] = lista[j + 1] \n",
    "            lista[j + 1] = aux \n",
    "\n",
    "print('Lista ordenada:', lista)\n",
    "    \n"
   ]
  },
  {
   "cell_type": "code",
   "execution_count": null,
   "metadata": {},
   "outputs": [],
   "source": []
  },
  {
   "cell_type": "markdown",
   "metadata": {},
   "source": [
    "## 2. Segundo mayor puntaje  ##\n",
    "\n",
    "Dada una lista de números enteros que representan los puntajes en un examen, debes devolver el segundo mayor puntaje, pueden haber puntajes iguales."
   ]
  },
  {
   "cell_type": "code",
   "execution_count": 58,
   "metadata": {},
   "outputs": [
    {
     "name": "stdout",
     "output_type": "stream",
     "text": [
      "15\n",
      "15\n"
     ]
    }
   ],
   "source": [
    "a = [2, 10, 15, 15, 12, 14, 5, 9]\n",
    "a.sort()\n",
    "print(a[-1])"
   ]
  },
  {
   "cell_type": "code",
   "execution_count": null,
   "metadata": {},
   "outputs": [],
   "source": []
  },
  {
   "cell_type": "markdown",
   "metadata": {},
   "source": [
    "## 3. Intercambia mayúsculas y minúsculas ##\n",
    "\n",
    "Lee una cadena y convierte las minúsculas en mayúsculas y viceversa. Imprime la respuesta.\n",
    "\n",
    "**Ejemplo:**\n",
    "\n",
    "> Www.Area51TrainingCenter.com → wWW.aREA51tRAININGcENTER.COM"
   ]
  },
  {
   "cell_type": "code",
   "execution_count": 75,
   "metadata": {},
   "outputs": [
    {
     "name": "stdout",
     "output_type": "stream",
     "text": [
      "fasdEEE\n",
      "FASDeee\n"
     ]
    }
   ],
   "source": [
    "frase = str(input())\n",
    "lista = ''\n",
    "for i in range (len(frase)):\n",
    "    letra = frase[i]\n",
    "    if letra == letra.lower():\n",
    "        lista = lista + str(letra.upper())\n",
    "    else:\n",
    "        lista = lista + str(letra.lower())\n",
    "print(str(lista))\n"
   ]
  },
  {
   "cell_type": "code",
   "execution_count": 76,
   "metadata": {},
   "outputs": [
    {
     "name": "stdout",
     "output_type": "stream",
     "text": [
      "asdasEEE\n"
     ]
    },
    {
     "data": {
      "text/plain": [
       "'ASDASeee'"
      ]
     },
     "execution_count": 76,
     "metadata": {},
     "output_type": "execute_result"
    }
   ],
   "source": [
    "frase = str(input())\n",
    "frase.swapcase()"
   ]
  },
  {
   "cell_type": "markdown",
   "metadata": {},
   "source": [
    "## 4. Ancho de Cadena ##\n",
    "\n",
    "Dada una cadena y un ancho. Tienes la tarea de convertir la cadena en un texto que tenga el ancho dado. Garantizamos que este ancho será siempre positivo y menor al tamaño de la cadena. \n",
    "\n",
    "**Ejemplo de entrada**\n",
    "\n",
    "    ABCDEFGHIJKLIMNOQRSTUVWXYZ\n",
    "\n",
    "    4\n",
    "\n",
    "**Ejemplo de salida**\n",
    "\n",
    "    ABCD\n",
    "    EFGH\n",
    "    IJKL\n",
    "    IMNO\n",
    "    QRST\n",
    "    UVWX\n",
    "    YZ"
   ]
  }
 ],
 "metadata": {
  "kernelspec": {
   "display_name": "Python 3",
   "language": "python",
   "name": "python3"
  },
  "language_info": {
   "codemirror_mode": {
    "name": "ipython",
    "version": 3
   },
   "file_extension": ".py",
   "mimetype": "text/x-python",
   "name": "python",
   "nbconvert_exporter": "python",
   "pygments_lexer": "ipython3",
   "version": "3.7.0"
  }
 },
 "nbformat": 4,
 "nbformat_minor": 2
}
