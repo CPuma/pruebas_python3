{
 "cells": [
  {
   "cell_type": "markdown",
   "metadata": {},
   "source": [
    "# Ejercicios #"
   ]
  },
  {
   "cell_type": "markdown",
   "metadata": {},
   "source": [
    "## 1. Bisiesto ## "
   ]
  },
  {
   "cell_type": "markdown",
   "metadata": {},
   "source": [
    "Dado un año (entero positivo) determina si es bisiesto.\n",
    "> Un año es bisiesto si es divisible entre 4, excepto aquellos divisibles entre 100 pero no entre 400.\n",
    "\n",
    "[Más sobre años bisiestos](https://es.wikipedia.org/wiki/A%C3%B1o_bisiesto)"
   ]
  },
  {
   "cell_type": "code",
   "execution_count": 33,
   "metadata": {},
   "outputs": [
    {
     "name": "stdout",
     "output_type": "stream",
     "text": [
      "2400\n",
      "bisiesto\n"
     ]
    }
   ],
   "source": [
    "año=int(input())\n",
    "if año % 4 == 0  and (año % 100 != 0  or año % 400 == 0) :\n",
    "    #if  año % 4 == 0:\n",
    "     print(\"Bisiesto\")\n",
    "else:\n",
    "    print(\"No es Bisiesto\")"
   ]
  },
  {
   "cell_type": "code",
   "execution_count": 94,
   "metadata": {},
   "outputs": [
    {
     "name": "stdout",
     "output_type": "stream",
     "text": [
      "-444\n",
      "No Bisiesto\n"
     ]
    }
   ],
   "source": [
    "año = int(input())\n",
    "def tab_verdad(a):\n",
    "    return (a % 4 == 0) and ((a % 100 != 0) or (a % 400 == 0))\n",
    "def bisiesto(t):\n",
    "    if t: print(\"bisiesto\") \n",
    "    else: print(\"No Bisiesto\") \n",
    "    \n",
    "bisiesto(tab_verdad(año))\n",
    "    \n",
    "    \n",
    "    "
   ]
  },
  {
   "cell_type": "code",
   "execution_count": 93,
   "metadata": {},
   "outputs": [
    {
     "name": "stdout",
     "output_type": "stream",
     "text": [
      "-444\n",
      "Año no permitido\n"
     ]
    }
   ],
   "source": [
    "año = int(input())\n",
    "def tab_verdad(a):\n",
    "    return   (a % 4 == 0) and ((a % 100 != 0) or (a % 400 == 0))\n",
    "\n",
    "if año > 1900:\n",
    "    if tab_verdad(año): \n",
    "        print(\"Bisiesto\") \n",
    "    else: print(\"No Bisiesto\")\n",
    "    \n",
    "else:\n",
    "    print(\"Año no permitido\")\n",
    "    "
   ]
  },
  {
   "cell_type": "markdown",
   "metadata": {},
   "source": [
    "## 2. Cubos ##"
   ]
  },
  {
   "cell_type": "markdown",
   "metadata": {},
   "source": [
    "Lee un número entero positivo e imprime todos los números, positivos y pares menores a este, elevados al cubo."
   ]
  },
  {
   "cell_type": "code",
   "execution_count": 140,
   "metadata": {},
   "outputs": [
    {
     "name": "stdout",
     "output_type": "stream",
     "text": [
      "40\n",
      "2 ^ 3 = 8\n",
      "4 ^ 3 = 64\n",
      "6 ^ 3 = 216\n",
      "8 ^ 3 = 512\n",
      "10 ^ 3 = 1000\n",
      "12 ^ 3 = 1728\n",
      "14 ^ 3 = 2744\n",
      "16 ^ 3 = 4096\n",
      "18 ^ 3 = 5832\n",
      "20 ^ 3 = 8000\n",
      "22 ^ 3 = 10648\n",
      "24 ^ 3 = 13824\n",
      "26 ^ 3 = 17576\n",
      "28 ^ 3 = 21952\n",
      "30 ^ 3 = 27000\n",
      "32 ^ 3 = 32768\n",
      "34 ^ 3 = 39304\n",
      "36 ^ 3 = 46656\n",
      "38 ^ 3 = 54872\n"
     ]
    }
   ],
   "source": [
    "numero = int(input())\n",
    "for i in range(2,numero,2):\n",
    "    print( repr(i) + ' ^ 3 = ' + repr(i**3) )"
   ]
  },
  {
   "cell_type": "code",
   "execution_count": 21,
   "metadata": {},
   "outputs": [
    {
     "name": "stdout",
     "output_type": "stream",
     "text": [
      "100\n",
      "x      x ^ 2     x ^ 3     \n",
      " 100   10000 = 1000000\n",
      "  98    9604 =  941192\n",
      "  96    9216 =  884736\n",
      "  94    8836 =  830584\n",
      "  92    8464 =  778688\n",
      "  90    8100 =  729000\n",
      "  88    7744 =  681472\n",
      "  86    7396 =  636056\n",
      "  84    7056 =  592704\n",
      "  82    6724 =  551368\n",
      "  80    6400 =  512000\n",
      "  78    6084 =  474552\n",
      "  76    5776 =  438976\n",
      "  74    5476 =  405224\n",
      "  72    5184 =  373248\n",
      "  70    4900 =  343000\n",
      "  68    4624 =  314432\n",
      "  66    4356 =  287496\n",
      "  64    4096 =  262144\n",
      "  62    3844 =  238328\n",
      "  60    3600 =  216000\n",
      "  58    3364 =  195112\n",
      "  56    3136 =  175616\n",
      "  54    2916 =  157464\n",
      "  52    2704 =  140608\n",
      "  50    2500 =  125000\n",
      "  48    2304 =  110592\n",
      "  46    2116 =   97336\n",
      "  44    1936 =   85184\n",
      "  42    1764 =   74088\n",
      "  40    1600 =   64000\n",
      "  38    1444 =   54872\n",
      "  36    1296 =   46656\n",
      "  34    1156 =   39304\n",
      "  32    1024 =   32768\n",
      "  30     900 =   27000\n",
      "  28     784 =   21952\n",
      "  26     676 =   17576\n",
      "  24     576 =   13824\n",
      "  22     484 =   10648\n",
      "  20     400 =    8000\n",
      "  18     324 =    5832\n",
      "  16     256 =    4096\n",
      "  14     196 =    2744\n",
      "  12     144 =    1728\n",
      "  10     100 =    1000\n",
      "   8      64 =     512\n",
      "   6      36 =     216\n",
      "   4      16 =      64\n",
      "   2       4 =       8\n",
      "Eso es todo amigos\n"
     ]
    }
   ],
   "source": [
    "num = int(input())\n",
    "def pares(n):\n",
    "    par = n // 2\n",
    "    print('{0: 7} {1: 10} {2: 10}'.format('x', 'x ^ 2', 'x ^ 3'))\n",
    "    def cubo(c):\n",
    "        if c == 0: print('Eso es todo amigos')\n",
    "        else: \n",
    "            cu = c * 2\n",
    "            print('{0:4d}  {1:6d} = {2:7d}'.format(cu, cu ** 2, cu ** 3))\n",
    "            cubo(c-1)\n",
    "    cubo(par)\n",
    "pares(num)"
   ]
  },
  {
   "cell_type": "code",
   "execution_count": 147,
   "metadata": {},
   "outputs": [
    {
     "name": "stdout",
     "output_type": "stream",
     "text": [
      "100\n",
      "2 ^ 3 = 8\n",
      "4 ^ 3 = 64\n",
      "6 ^ 3 = 216\n",
      "8 ^ 3 = 512\n",
      "10 ^ 3 = 1000\n",
      "12 ^ 3 = 1728\n",
      "14 ^ 3 = 2744\n",
      "16 ^ 3 = 4096\n",
      "18 ^ 3 = 5832\n",
      "20 ^ 3 = 8000\n",
      "22 ^ 3 = 10648\n",
      "24 ^ 3 = 13824\n",
      "26 ^ 3 = 17576\n",
      "28 ^ 3 = 21952\n",
      "30 ^ 3 = 27000\n",
      "32 ^ 3 = 32768\n",
      "34 ^ 3 = 39304\n",
      "36 ^ 3 = 46656\n",
      "38 ^ 3 = 54872\n",
      "40 ^ 3 = 64000\n",
      "42 ^ 3 = 74088\n",
      "44 ^ 3 = 85184\n",
      "46 ^ 3 = 97336\n",
      "48 ^ 3 = 110592\n",
      "50 ^ 3 = 125000\n",
      "52 ^ 3 = 140608\n",
      "54 ^ 3 = 157464\n",
      "56 ^ 3 = 175616\n",
      "58 ^ 3 = 195112\n",
      "60 ^ 3 = 216000\n",
      "62 ^ 3 = 238328\n",
      "64 ^ 3 = 262144\n",
      "66 ^ 3 = 287496\n",
      "68 ^ 3 = 314432\n",
      "70 ^ 3 = 343000\n",
      "72 ^ 3 = 373248\n",
      "74 ^ 3 = 405224\n",
      "76 ^ 3 = 438976\n",
      "78 ^ 3 = 474552\n",
      "80 ^ 3 = 512000\n",
      "82 ^ 3 = 551368\n",
      "84 ^ 3 = 592704\n",
      "86 ^ 3 = 636056\n",
      "88 ^ 3 = 681472\n",
      "90 ^ 3 = 729000\n",
      "92 ^ 3 = 778688\n",
      "94 ^ 3 = 830584\n",
      "96 ^ 3 = 884736\n",
      "98 ^ 3 = 941192\n"
     ]
    }
   ],
   "source": [
    "numer=int(input())\n",
    "def pares(n):\n",
    "    for i in range (1,n//2):\n",
    "        print('{0} ^ 3 = {1}'.format(i * 2, (i * 2) ** 3))\n",
    "        \n",
    "pares(numer)"
   ]
  },
  {
   "cell_type": "markdown",
   "metadata": {},
   "source": [
    "# 3. Suma Impares ##"
   ]
  },
  {
   "cell_type": "markdown",
   "metadata": {},
   "source": [
    "Lee un número entero e imprime la suma de todos los números positivos impares que sean menor o igual a este."
   ]
  },
  {
   "cell_type": "code",
   "execution_count": 1,
   "metadata": {},
   "outputs": [
    {
     "name": "stdout",
     "output_type": "stream",
     "text": [
      "6\n",
      "9\n"
     ]
    }
   ],
   "source": [
    "inpar = int(input())\n",
    "if inpar % 2 == 0 :\n",
    "    print(((inpar // 2) ** 2))\n",
    "else :\n",
    "    print(((inpar + 1) // 2) ** 2) "
   ]
  },
  {
   "cell_type": "code",
   "execution_count": 68,
   "metadata": {},
   "outputs": [
    {
     "name": "stdout",
     "output_type": "stream",
     "text": [
      "3\n",
      "La suma de inpares  es : 4\n"
     ]
    }
   ],
   "source": [
    "inpar = int(input())\n",
    "\n",
    "def suma_inpar(a):\n",
    "    suma = 0\n",
    "    def numeros(o):\n",
    "        nonlocal suma\n",
    "        if o < 0:\n",
    "            print('La suma de inpares  es : ' + str(suma))\n",
    "        else:\n",
    "            suma += ((o * 2) + 1)\n",
    "            numeros(o - 1) \n",
    "    numeros((a - 1) // 2)\n",
    "    \n",
    "suma_inpar(inpar)\n",
    "   \n",
    "        "
   ]
  },
  {
   "cell_type": "markdown",
   "metadata": {},
   "source": [
    "## 4. Sistema Binario ##"
   ]
  },
  {
   "cell_type": "markdown",
   "metadata": {},
   "source": [
    "Lee un número entero positivo e imprímelo convertido al sistema binario."
   ]
  },
  {
   "cell_type": "code",
   "execution_count": 24,
   "metadata": {},
   "outputs": [
    {
     "name": "stdout",
     "output_type": "stream",
     "text": [
      "5\n",
      "101\n"
     ]
    }
   ],
   "source": [
    "a = int(input())\n",
    "bina = ''\n",
    "while a  / 2 > 0 :\n",
    "    bina = str(a % 2) + bina\n",
    "    a =  a // 2 \n",
    "print(bina)\n"
   ]
  },
  {
   "cell_type": "code",
   "execution_count": 23,
   "metadata": {},
   "outputs": [
    {
     "name": "stdout",
     "output_type": "stream",
     "text": [
      "45\n",
      "101101\n"
     ]
    }
   ],
   "source": [
    "num = int(input())\n",
    "bin_a = ''\n",
    "def binario(a):\n",
    "    if a >= 1:\n",
    "        global bin_a\n",
    "        bin_a = str(a % 2) + bin_a\n",
    "        binario(a // 2)\n",
    "    else:\n",
    "        print(bin_a)\n",
    "binario(num)"
   ]
  },
  {
   "cell_type": "code",
   "execution_count": null,
   "metadata": {},
   "outputs": [],
   "source": []
  }
 ],
 "metadata": {
  "kernelspec": {
   "display_name": "Python 3",
   "language": "python",
   "name": "python3"
  },
  "language_info": {
   "codemirror_mode": {
    "name": "ipython",
    "version": 3
   },
   "file_extension": ".py",
   "mimetype": "text/x-python",
   "name": "python",
   "nbconvert_exporter": "python",
   "pygments_lexer": "ipython3",
   "version": "3.7.0"
  }
 },
 "nbformat": 4,
 "nbformat_minor": 2
}
